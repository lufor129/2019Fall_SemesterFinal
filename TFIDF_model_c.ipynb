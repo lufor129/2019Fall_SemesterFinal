{
 "cells": [
  {
   "cell_type": "code",
   "execution_count": 1,
   "metadata": {},
   "outputs": [],
   "source": [
    "import jieba\n",
    "import re\n",
    "import pymongo\n",
    "from gensim import corpora, models, similarities\n",
    "jieba.set_dictionary(\"dict.txt.big.txt\")\n",
    "\n",
    "myclient = pymongo.MongoClient(\"mongodb://localhost:27017/\")\n",
    "mydb = myclient[\"semester\"]\n",
    "mycol = mydb[\"ettoday\"]"
   ]
  },
  {
   "cell_type": "code",
   "execution_count": 2,
   "metadata": {},
   "outputs": [
    {
     "name": "stdout",
     "output_type": "stream",
     "text": [
      "['快訊／高嘉瑜晚間好奇找阿北求證\\u3000柯P終於「一句話」解答了', '美眉的夏天／最HOT名單出爐\\u3000她激戰搶下冠軍抱千元大獎', '搭西寧軍艦南偵\\u300022名教師登太平島深化主權意識', '桃園區慶讚中元水燈排車繞境\\u3000傳承百年特色慶典', '鳳飛飛故事展、電影展…等紀念活動\\u3000緬懷永遠的國民天后', '韓國瑜選總統8月3日從桃園出發\\u3000要讓全國看到藍軍團結力量', '規劃「個人服裝包」\\u3000國軍新兵服裝用APP快速搞定', '嘉義「火燈夜巡、大士爺祭」深獲在地認同\\u3000下一步推向國際', '台民黨「不分區名單」她第一個被點名！\\u3000柯文哲傾向不選才組黨', '影／她吃藥睡死…起床驚見「手被蟑螂咬」模樣超慘\\u3000網加碼曝：而且非常痛']\n"
     ]
    }
   ],
   "source": [
    "ettoday_list = []\n",
    "for i in mycol.find({},{\"title\":1,\"_id\":0}):\n",
    "    ettoday_list.append(i[\"title\"])\n",
    "print(ettoday_list[:10])"
   ]
  },
  {
   "cell_type": "code",
   "execution_count": 3,
   "metadata": {},
   "outputs": [
    {
     "name": "stderr",
     "output_type": "stream",
     "text": [
      "Building prefix dict from D:\\program\\semester_final\\dict.txt.big.txt ...\n",
      "Loading model from cache C:\\Users\\PC-Henry\\AppData\\Local\\Temp\\jieba.u202fd84447beda33a25aefd770cfa382.cache\n",
      "Loading model cost 1.267 seconds.\n",
      "Prefix dict has been built succesfully.\n"
     ]
    }
   ],
   "source": [
    "def clean_data(title):\n",
    "    sub_t = \"\\W+\"\n",
    "    t_sub = re.sub(sub_t,\"\",title)\n",
    "    t_sub = re.sub(\"快訊\",\"\",t_sub)\n",
    "    return list(jieba.cut(t_sub))\n",
    "\n",
    "ettoday_list = [clean_data(t) for t in ettoday_list]"
   ]
  },
  {
   "cell_type": "code",
   "execution_count": 4,
   "metadata": {},
   "outputs": [],
   "source": [
    "corpora_dict_path = './model/corpora_dict.dict'\n",
    "tfidf_model_path = \"./model/tfidf.model\"\n",
    "index_path = \"./model/simIndex.index\"\n",
    "dictionary = corpora.Dictionary(ettoday_list)\n",
    "dictionary.save(corpora_dict_path)\n",
    "\n",
    "corpus = [dictionary.doc2bow(text) for text in ettoday_list]\n",
    "# corpora.MmCorpus.serialize('./corpus.mm', corpus) \n",
    "\n",
    "tfidf = models.TfidfModel(corpus)\n",
    "tfidf.save(tfidf_model_path)\n",
    "\n",
    "index = similarities.SparseMatrixSimilarity(tfidf[corpus], num_features = len(dictionary.token2id))\n",
    "index.save(index_path)"
   ]
  },
  {
   "cell_type": "markdown",
   "metadata": {},
   "source": [
    "****"
   ]
  },
  {
   "cell_type": "code",
   "execution_count": 1,
   "metadata": {},
   "outputs": [],
   "source": [
    "import jieba\n",
    "import re\n",
    "import pymongo\n",
    "from gensim import corpora, models, similarities\n",
    "jieba.set_dictionary(\"dict.txt.big.txt\")"
   ]
  },
  {
   "cell_type": "code",
   "execution_count": 2,
   "metadata": {},
   "outputs": [],
   "source": [
    "corpora_dict_path = './model/corpora_dict.dict'\n",
    "tfidf_model_path = \"./model/tfidf.model\"\n",
    "index_path = \"./model/simIndex.index\"\n",
    "\n",
    "tfidf = models.TfidfModel.load(tfidf_model_path)\n",
    "dictionary = corpora.Dictionary.load(corpora_dict_path)\n",
    "index = similarities.SparseMatrixSimilarity.load(index_path)"
   ]
  },
  {
   "cell_type": "code",
   "execution_count": 5,
   "metadata": {},
   "outputs": [],
   "source": [
    "def getSims(sentence):\n",
    "    texts = jieba.cut(sentence)\n",
    "    new_vec = dictionary.doc2bow(texts)\n",
    "    new_vec_tfidf = tfidf[new_vec]\n",
    "    return index[new_vec_tfidf]"
   ]
  },
  {
   "cell_type": "code",
   "execution_count": 6,
   "metadata": {},
   "outputs": [
    {
     "name": "stdout",
     "output_type": "stream",
     "text": [
      "[0.18088523 0.         0.         0.         0.         0.\n",
      " 0.         0.         0.11147286 0.        ]\n"
     ]
    }
   ],
   "source": [
    "sims = getSims(\"震驚柯P宣布組黨台灣民眾黨成立\")\n",
    "print(sims[:10])"
   ]
  },
  {
   "cell_type": "code",
   "execution_count": null,
   "metadata": {},
   "outputs": [],
   "source": []
  }
 ],
 "metadata": {
  "kernelspec": {
   "display_name": "Python 3",
   "language": "python",
   "name": "python3"
  },
  "language_info": {
   "codemirror_mode": {
    "name": "ipython",
    "version": 3
   },
   "file_extension": ".py",
   "mimetype": "text/x-python",
   "name": "python",
   "nbconvert_exporter": "python",
   "pygments_lexer": "ipython3",
   "version": "3.6.6"
  }
 },
 "nbformat": 4,
 "nbformat_minor": 2
}
