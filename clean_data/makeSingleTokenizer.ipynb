{
 "cells": [
  {
   "cell_type": "code",
   "execution_count": 1,
   "metadata": {},
   "outputs": [
    {
     "name": "stderr",
     "output_type": "stream",
     "text": [
      "Using TensorFlow backend.\n"
     ]
    }
   ],
   "source": [
    "import keras\n",
    "import re\n",
    "import pandas as pd\n",
    "import pymongo\n",
    "import jieba\n",
    "jieba.set_dictionary(\"dict.txt.big.txt\")"
   ]
  },
  {
   "cell_type": "code",
   "execution_count": 2,
   "metadata": {},
   "outputs": [],
   "source": [
    "myclient = pymongo.MongoClient(\"mongodb://localhost:27017/\")\n",
    "mydb = myclient[\"semester\"]\n",
    "mycol = mydb[\"ettoday\"]"
   ]
  },
  {
   "cell_type": "code",
   "execution_count": 3,
   "metadata": {},
   "outputs": [
    {
     "name": "stdout",
     "output_type": "stream",
     "text": [
      "641090\n"
     ]
    },
    {
     "data": {
      "text/html": [
       "<div>\n",
       "<style scoped>\n",
       "    .dataframe tbody tr th:only-of-type {\n",
       "        vertical-align: middle;\n",
       "    }\n",
       "\n",
       "    .dataframe tbody tr th {\n",
       "        vertical-align: top;\n",
       "    }\n",
       "\n",
       "    .dataframe thead th {\n",
       "        text-align: right;\n",
       "    }\n",
       "</style>\n",
       "<table border=\"1\" class=\"dataframe\">\n",
       "  <thead>\n",
       "    <tr style=\"text-align: right;\">\n",
       "      <th></th>\n",
       "      <th>title</th>\n",
       "    </tr>\n",
       "  </thead>\n",
       "  <tbody>\n",
       "    <tr>\n",
       "      <th>0</th>\n",
       "      <td>2017養老保險又新增兩項，農村老人人人可申領，你領到了嗎</td>\n",
       "    </tr>\n",
       "    <tr>\n",
       "      <th>1</th>\n",
       "      <td>\"你不來深圳，早晚你兒子也要來\"，不出10年深圳人均GDP將超香港</td>\n",
       "    </tr>\n",
       "    <tr>\n",
       "      <th>2</th>\n",
       "      <td>\"你不來深圳，早晚你兒子也要來\"，不出10年深圳人均GDP將超香港</td>\n",
       "    </tr>\n",
       "    <tr>\n",
       "      <th>3</th>\n",
       "      <td>\"你不來深圳，早晚你兒子也要來\"，不出10年深圳人均GDP將超香港</td>\n",
       "    </tr>\n",
       "    <tr>\n",
       "      <th>4</th>\n",
       "      <td>\"用大蒜鑒別地溝油的方法,怎麼鑒別地溝油</td>\n",
       "    </tr>\n",
       "  </tbody>\n",
       "</table>\n",
       "</div>"
      ],
      "text/plain": [
       "                               title\n",
       "0      2017養老保險又新增兩項，農村老人人人可申領，你領到了嗎\n",
       "1  \"你不來深圳，早晚你兒子也要來\"，不出10年深圳人均GDP將超香港\n",
       "2  \"你不來深圳，早晚你兒子也要來\"，不出10年深圳人均GDP將超香港\n",
       "3  \"你不來深圳，早晚你兒子也要來\"，不出10年深圳人均GDP將超香港\n",
       "4               \"用大蒜鑒別地溝油的方法,怎麼鑒別地溝油"
      ]
     },
     "execution_count": 3,
     "metadata": {},
     "output_type": "execute_result"
    }
   ],
   "source": [
    "K_train =  pd.read_csv(\"../train_p.csv\")\n",
    "corpus_x1 = K_train.title1_zh\n",
    "corpus_x2 = K_train.title2_zh\n",
    "corpus = pd.DataFrame()\n",
    "corpus = pd.concat([\n",
    "    corpus,corpus_x1, corpus_x2])\n",
    "print(len(corpus))\n",
    "corpus.columns = [\"title\"]\n",
    "corpus.head()"
   ]
  },
  {
   "cell_type": "code",
   "execution_count": 36,
   "metadata": {},
   "outputs": [],
   "source": [
    "def cleanData(sentence):\n",
    "    sentence = re.sub(\"\\W+\",\"\",sentence)\n",
    "    texts = jieba.cut(sentence)\n",
    "    arr = []\n",
    "    for t in texts:\n",
    "        if(t.isdigit() or re.search(\"[^a-zA-Z]+\",t) == None):\n",
    "            arr.append(t)\n",
    "            continue\n",
    "        else:\n",
    "            for tee in t:\n",
    "                arr.append(tee)\n",
    "    return \" \".join(arr)\n",
    "\n",
    "def stringify(text):\n",
    "    return str(text)"
   ]
  },
  {
   "cell_type": "code",
   "execution_count": 5,
   "metadata": {},
   "outputs": [
    {
     "name": "stderr",
     "output_type": "stream",
     "text": [
      "Building prefix dict from D:\\program\\semester_final\\clean_data\\dict.txt.big.txt ...\n",
      "Loading model from cache C:\\Users\\PC-Henry\\AppData\\Local\\Temp\\jieba.u6179e01b4c6492e8310058a8757f6034.cache\n",
      "Loading model cost 1.309 seconds.\n",
      "Prefix dict has been built succesfully.\n"
     ]
    },
    {
     "data": {
      "text/html": [
       "<div>\n",
       "<style scoped>\n",
       "    .dataframe tbody tr th:only-of-type {\n",
       "        vertical-align: middle;\n",
       "    }\n",
       "\n",
       "    .dataframe tbody tr th {\n",
       "        vertical-align: top;\n",
       "    }\n",
       "\n",
       "    .dataframe thead th {\n",
       "        text-align: right;\n",
       "    }\n",
       "</style>\n",
       "<table border=\"1\" class=\"dataframe\">\n",
       "  <thead>\n",
       "    <tr style=\"text-align: right;\">\n",
       "      <th></th>\n",
       "      <th>title</th>\n",
       "    </tr>\n",
       "  </thead>\n",
       "  <tbody>\n",
       "    <tr>\n",
       "      <th>0</th>\n",
       "      <td>2017 養 老 保 險 又 新 增 兩 項 農 村 老 人 人 人 可 申 領 你 領 到...</td>\n",
       "    </tr>\n",
       "    <tr>\n",
       "      <th>1</th>\n",
       "      <td>你 不 來 深 圳 早 晚 你 兒 子 也 要 來 不 出 10 年 深 圳 人 均 GDP...</td>\n",
       "    </tr>\n",
       "    <tr>\n",
       "      <th>2</th>\n",
       "      <td>你 不 來 深 圳 早 晚 你 兒 子 也 要 來 不 出 10 年 深 圳 人 均 GDP...</td>\n",
       "    </tr>\n",
       "    <tr>\n",
       "      <th>3</th>\n",
       "      <td>你 不 來 深 圳 早 晚 你 兒 子 也 要 來 不 出 10 年 深 圳 人 均 GDP...</td>\n",
       "    </tr>\n",
       "    <tr>\n",
       "      <th>4</th>\n",
       "      <td>用 大 蒜 鑒 別 地 溝 油 的 方 法 怎 麼 鑒 別 地 溝 油</td>\n",
       "    </tr>\n",
       "  </tbody>\n",
       "</table>\n",
       "</div>"
      ],
      "text/plain": [
       "                                               title\n",
       "0  2017 養 老 保 險 又 新 增 兩 項 農 村 老 人 人 人 可 申 領 你 領 到...\n",
       "1  你 不 來 深 圳 早 晚 你 兒 子 也 要 來 不 出 10 年 深 圳 人 均 GDP...\n",
       "2  你 不 來 深 圳 早 晚 你 兒 子 也 要 來 不 出 10 年 深 圳 人 均 GDP...\n",
       "3  你 不 來 深 圳 早 晚 你 兒 子 也 要 來 不 出 10 年 深 圳 人 均 GDP...\n",
       "4                用 大 蒜 鑒 別 地 溝 油 的 方 法 怎 麼 鑒 別 地 溝 油"
      ]
     },
     "execution_count": 5,
     "metadata": {},
     "output_type": "execute_result"
    }
   ],
   "source": [
    "corpus[\"title\"] = corpus[\"title\"].apply(cleanData)\n",
    "corpus.head()"
   ]
  },
  {
   "cell_type": "code",
   "execution_count": 7,
   "metadata": {},
   "outputs": [
    {
     "name": "stdout",
     "output_type": "stream",
     "text": [
      "['快訊／高嘉瑜晚間好奇找阿北求證\\u3000柯P終於「一句話」解答了', '美眉的夏天／最HOT名單出爐\\u3000她激戰搶下冠軍抱千元大獎', '搭西寧軍艦南偵\\u300022名教師登太平島深化主權意識', '桃園區慶讚中元水燈排車繞境\\u3000傳承百年特色慶典', '鳳飛飛故事展、電影展…等紀念活動\\u3000緬懷永遠的國民天后', '韓國瑜選總統8月3日從桃園出發\\u3000要讓全國看到藍軍團結力量', '規劃「個人服裝包」\\u3000國軍新兵服裝用APP快速搞定', '嘉義「火燈夜巡、大士爺祭」深獲在地認同\\u3000下一步推向國際', '台民黨「不分區名單」她第一個被點名！\\u3000柯文哲傾向不選才組黨', '影／她吃藥睡死…起床驚見「手被蟑螂咬」模樣超慘\\u3000網加碼曝：而且非常痛']\n"
     ]
    }
   ],
   "source": [
    "ettoday = []\n",
    "for news in mycol.find({},{\"title\":1,\"_id\":0}):\n",
    "    ettoday.append(news[\"title\"])\n",
    "print(ettoday[:10])\n"
   ]
  },
  {
   "cell_type": "code",
   "execution_count": 9,
   "metadata": {},
   "outputs": [
    {
     "name": "stdout",
     "output_type": "stream",
     "text": [
      "641090\n"
     ]
    }
   ],
   "source": [
    "print(len(corpus))\n",
    "ettoday = [cleanData(news) for news in ettoday]"
   ]
  },
  {
   "cell_type": "code",
   "execution_count": 29,
   "metadata": {},
   "outputs": [
    {
     "data": {
      "text/html": [
       "<div>\n",
       "<style scoped>\n",
       "    .dataframe tbody tr th:only-of-type {\n",
       "        vertical-align: middle;\n",
       "    }\n",
       "\n",
       "    .dataframe tbody tr th {\n",
       "        vertical-align: top;\n",
       "    }\n",
       "\n",
       "    .dataframe thead th {\n",
       "        text-align: right;\n",
       "    }\n",
       "</style>\n",
       "<table border=\"1\" class=\"dataframe\">\n",
       "  <thead>\n",
       "    <tr style=\"text-align: right;\">\n",
       "      <th></th>\n",
       "      <th>title</th>\n",
       "    </tr>\n",
       "  </thead>\n",
       "  <tbody>\n",
       "    <tr>\n",
       "      <th>0</th>\n",
       "      <td>快 訊 高 嘉 瑜 晚 間 好 奇 找 阿 北 求 證 柯 P 終 於 一 句 話 解 答 了</td>\n",
       "    </tr>\n",
       "    <tr>\n",
       "      <th>1</th>\n",
       "      <td>美 眉 的 夏 天 最 HOT 名 單 出 爐 她 激 戰 搶 下 冠 軍 抱 千 元 大 獎</td>\n",
       "    </tr>\n",
       "    <tr>\n",
       "      <th>2</th>\n",
       "      <td>搭 西 寧 軍 艦 南 偵 22 名 教 師 登 太 平 島 深 化 主 權 意 識</td>\n",
       "    </tr>\n",
       "    <tr>\n",
       "      <th>3</th>\n",
       "      <td>桃 園 區 慶 讚 中 元 水 燈 排 車 繞 境 傳 承 百 年 特 色 慶 典</td>\n",
       "    </tr>\n",
       "    <tr>\n",
       "      <th>4</th>\n",
       "      <td>鳳 飛 飛 故 事 展 電 影 展 等 紀 念 活 動 緬 懷 永 遠 的 國 民 天 后</td>\n",
       "    </tr>\n",
       "  </tbody>\n",
       "</table>\n",
       "</div>"
      ],
      "text/plain": [
       "                                             title\n",
       "0  快 訊 高 嘉 瑜 晚 間 好 奇 找 阿 北 求 證 柯 P 終 於 一 句 話 解 答 了\n",
       "1  美 眉 的 夏 天 最 HOT 名 單 出 爐 她 激 戰 搶 下 冠 軍 抱 千 元 大 獎\n",
       "2       搭 西 寧 軍 艦 南 偵 22 名 教 師 登 太 平 島 深 化 主 權 意 識\n",
       "3        桃 園 區 慶 讚 中 元 水 燈 排 車 繞 境 傳 承 百 年 特 色 慶 典\n",
       "4    鳳 飛 飛 故 事 展 電 影 展 等 紀 念 活 動 緬 懷 永 遠 的 國 民 天 后"
      ]
     },
     "execution_count": 29,
     "metadata": {},
     "output_type": "execute_result"
    }
   ],
   "source": [
    "ettoday2 = pd.DataFrame(ettoday)\n",
    "ettoday2.columns = [\"title\"]\n",
    "ettoday2.head()"
   ]
  },
  {
   "cell_type": "code",
   "execution_count": 34,
   "metadata": {},
   "outputs": [
    {
     "name": "stdout",
     "output_type": "stream",
     "text": [
      "690851\n"
     ]
    },
    {
     "data": {
      "text/html": [
       "<div>\n",
       "<style scoped>\n",
       "    .dataframe tbody tr th:only-of-type {\n",
       "        vertical-align: middle;\n",
       "    }\n",
       "\n",
       "    .dataframe tbody tr th {\n",
       "        vertical-align: top;\n",
       "    }\n",
       "\n",
       "    .dataframe thead th {\n",
       "        text-align: right;\n",
       "    }\n",
       "</style>\n",
       "<table border=\"1\" class=\"dataframe\">\n",
       "  <thead>\n",
       "    <tr style=\"text-align: right;\">\n",
       "      <th></th>\n",
       "      <th>title</th>\n",
       "    </tr>\n",
       "  </thead>\n",
       "  <tbody>\n",
       "    <tr>\n",
       "      <th>0</th>\n",
       "      <td>2017 養 老 保 險 又 新 增 兩 項 農 村 老 人 人 人 可 申 領 你 領 到...</td>\n",
       "    </tr>\n",
       "    <tr>\n",
       "      <th>1</th>\n",
       "      <td>你 不 來 深 圳 早 晚 你 兒 子 也 要 來 不 出 10 年 深 圳 人 均 GDP...</td>\n",
       "    </tr>\n",
       "    <tr>\n",
       "      <th>2</th>\n",
       "      <td>你 不 來 深 圳 早 晚 你 兒 子 也 要 來 不 出 10 年 深 圳 人 均 GDP...</td>\n",
       "    </tr>\n",
       "    <tr>\n",
       "      <th>3</th>\n",
       "      <td>你 不 來 深 圳 早 晚 你 兒 子 也 要 來 不 出 10 年 深 圳 人 均 GDP...</td>\n",
       "    </tr>\n",
       "    <tr>\n",
       "      <th>4</th>\n",
       "      <td>用 大 蒜 鑒 別 地 溝 油 的 方 法 怎 麼 鑒 別 地 溝 油</td>\n",
       "    </tr>\n",
       "  </tbody>\n",
       "</table>\n",
       "</div>"
      ],
      "text/plain": [
       "                                               title\n",
       "0  2017 養 老 保 險 又 新 增 兩 項 農 村 老 人 人 人 可 申 領 你 領 到...\n",
       "1  你 不 來 深 圳 早 晚 你 兒 子 也 要 來 不 出 10 年 深 圳 人 均 GDP...\n",
       "2  你 不 來 深 圳 早 晚 你 兒 子 也 要 來 不 出 10 年 深 圳 人 均 GDP...\n",
       "3  你 不 來 深 圳 早 晚 你 兒 子 也 要 來 不 出 10 年 深 圳 人 均 GDP...\n",
       "4                用 大 蒜 鑒 別 地 溝 油 的 方 法 怎 麼 鑒 別 地 溝 油"
      ]
     },
     "execution_count": 34,
     "metadata": {},
     "output_type": "execute_result"
    }
   ],
   "source": [
    "copus = pd.concat([corpus,ettoday2])\n",
    "copus.reset_index(drop=True)\n",
    "print(len(copus))\n",
    "copus.head()"
   ]
  },
  {
   "cell_type": "code",
   "execution_count": 43,
   "metadata": {},
   "outputs": [
    {
     "name": "stdout",
     "output_type": "stream",
     "text": [
      "4057\n"
     ]
    },
    {
     "data": {
      "text/html": [
       "<div>\n",
       "<style scoped>\n",
       "    .dataframe tbody tr th:only-of-type {\n",
       "        vertical-align: middle;\n",
       "    }\n",
       "\n",
       "    .dataframe tbody tr th {\n",
       "        vertical-align: top;\n",
       "    }\n",
       "\n",
       "    .dataframe thead th {\n",
       "        text-align: right;\n",
       "    }\n",
       "</style>\n",
       "<table border=\"1\" class=\"dataframe\">\n",
       "  <thead>\n",
       "    <tr style=\"text-align: right;\">\n",
       "      <th></th>\n",
       "      <th>title1</th>\n",
       "      <th>title2</th>\n",
       "      <th>label</th>\n",
       "    </tr>\n",
       "  </thead>\n",
       "  <tbody>\n",
       "    <tr>\n",
       "      <th>0</th>\n",
       "      <td>看看香港-[黃之鋒]的惡行惡狀欺負老人家算什麼好漢？暴徒來台卻變成英雄貴賓把台灣道德價值摧毀...</td>\n",
       "      <td>【錯誤】網傳影片「看看香港，黃之鋒的惡行惡狀，充分沒有教養的港獨暴力份子，...欺負老人家算...</td>\n",
       "      <td>False</td>\n",
       "    </tr>\n",
       "    <tr>\n",
       "      <th>1</th>\n",
       "      <td>3、燒烤時戴隱形眼鏡遇高溫會使隱形眼鏡熔化而致盲</td>\n",
       "      <td>【錯誤】網傳「在烤肉...請將你的隱形眼鏡拿掉！一個21歲男生生火時，過熱的溫度熔化隱形眼鏡」？</td>\n",
       "      <td>False</td>\n",
       "    </tr>\n",
       "    <tr>\n",
       "      <th>2</th>\n",
       "      <td>剛出爐的麵包傷胃</td>\n",
       "      <td>《謠言終結站》剛出爐的麵包會致癌？ 專家斥無稽 - 生活 - 自由時報電子報</td>\n",
       "      <td>False</td>\n",
       "    </tr>\n",
       "    <tr>\n",
       "      <th>3</th>\n",
       "      <td>昨晚，香港一名參與示威女子被同伴擊中眼睛，可能致視力嚴重受損，他們竟還反污衊香港警方</td>\n",
       "      <td>早報：中國央視報導香港女子右眼受傷，引用假照片，「新聞」信源無可稽考｜端傳媒 Initium...</td>\n",
       "      <td>False</td>\n",
       "    </tr>\n",
       "    <tr>\n",
       "      <th>4</th>\n",
       "      <td>你還在吃龍眼嗎？看完後震驚了！一定要告訴家人啊！分享~：</td>\n",
       "      <td>【假養生】近視從800度降到200度？謠言讓醫生表示效果有限，不要過量了！ ｜MyGoPen</td>\n",
       "      <td>False</td>\n",
       "    </tr>\n",
       "  </tbody>\n",
       "</table>\n",
       "</div>"
      ],
      "text/plain": [
       "                                              title1  \\\n",
       "0  看看香港-[黃之鋒]的惡行惡狀欺負老人家算什麼好漢？暴徒來台卻變成英雄貴賓把台灣道德價值摧毀...   \n",
       "1                           3、燒烤時戴隱形眼鏡遇高溫會使隱形眼鏡熔化而致盲   \n",
       "2                                           剛出爐的麵包傷胃   \n",
       "3         昨晚，香港一名參與示威女子被同伴擊中眼睛，可能致視力嚴重受損，他們竟還反污衊香港警方   \n",
       "4                       你還在吃龍眼嗎？看完後震驚了！一定要告訴家人啊！分享~：   \n",
       "\n",
       "                                              title2  label  \n",
       "0  【錯誤】網傳影片「看看香港，黃之鋒的惡行惡狀，充分沒有教養的港獨暴力份子，...欺負老人家算...  False  \n",
       "1   【錯誤】網傳「在烤肉...請將你的隱形眼鏡拿掉！一個21歲男生生火時，過熱的溫度熔化隱形眼鏡」？  False  \n",
       "2             《謠言終結站》剛出爐的麵包會致癌？ 專家斥無稽 - 生活 - 自由時報電子報  False  \n",
       "3  早報：中國央視報導香港女子右眼受傷，引用假照片，「新聞」信源無可稽考｜端傳媒 Initium...  False  \n",
       "4     【假養生】近視從800度降到200度？謠言讓醫生表示效果有限，不要過量了！ ｜MyGoPen  False  "
      ]
     },
     "execution_count": 43,
     "metadata": {},
     "output_type": "execute_result"
    }
   ],
   "source": [
    "fake = pd.read_csv(\"fake_clean2.csv\",header=None)\n",
    "fake.columns = [\"title1\",\"title2\",\"label\"]\n",
    "unfake = pd.read_csv(\"unfake_clean.csv\",header=None)\n",
    "unfake.columns = [\"title1\",\"title2\",\"label\"]\n",
    "unfake[\"title1\"] = unfake[\"title1\"].apply(stringify)\n",
    "unfake = unfake[unfake[\"title1\"]!='nan']\n",
    "train_data = pd.concat([fake,unfake],axis=0)\n",
    "print(len(train_data))\n",
    "train_data.head()"
   ]
  },
  {
   "cell_type": "code",
   "execution_count": 45,
   "metadata": {},
   "outputs": [],
   "source": [
    "with open(\"./news_platform.txt\") as f:\n",
    "    news_platform = f.readlines()\n",
    "news_del = \"|\".join([re.sub(\"\\W+\",\"\",new) for new in news_platform])\n",
    "with open(\"./other_platform.txt\") as f:\n",
    "    other_platform = f.readlines()\n",
    "other_del = \"|\".join([re.sub(\"\\W+\",\"\",new) for new in other_platform])\n",
    "_del = news_del+\"|\"+other_del\n",
    "\n",
    "def clean_mark(text):\n",
    "    return re.sub(_del,\"\",text)"
   ]
  },
  {
   "cell_type": "code",
   "execution_count": 48,
   "metadata": {},
   "outputs": [
    {
     "name": "stdout",
     "output_type": "stream",
     "text": [
      "8114\n"
     ]
    },
    {
     "data": {
      "text/html": [
       "<div>\n",
       "<style scoped>\n",
       "    .dataframe tbody tr th:only-of-type {\n",
       "        vertical-align: middle;\n",
       "    }\n",
       "\n",
       "    .dataframe tbody tr th {\n",
       "        vertical-align: top;\n",
       "    }\n",
       "\n",
       "    .dataframe thead th {\n",
       "        text-align: right;\n",
       "    }\n",
       "</style>\n",
       "<table border=\"1\" class=\"dataframe\">\n",
       "  <thead>\n",
       "    <tr style=\"text-align: right;\">\n",
       "      <th></th>\n",
       "      <th>title</th>\n",
       "    </tr>\n",
       "  </thead>\n",
       "  <tbody>\n",
       "    <tr>\n",
       "      <th>0</th>\n",
       "      <td>看 看 香 港 黃 之 鋒 的 惡 行 惡 狀 欺 負 老 人 家 算 什 麼 好 漢 暴 ...</td>\n",
       "    </tr>\n",
       "    <tr>\n",
       "      <th>1</th>\n",
       "      <td>3 燒 烤 時 戴 隱 形 眼 鏡 遇 高 溫 會 使 隱 形 眼 鏡 熔 化 而 致 盲</td>\n",
       "    </tr>\n",
       "    <tr>\n",
       "      <th>2</th>\n",
       "      <td>剛 出 爐 的 麵 包 傷 胃</td>\n",
       "    </tr>\n",
       "    <tr>\n",
       "      <th>3</th>\n",
       "      <td>昨 晚 香 港 一 名 參 與 示 威 女 子 被 同 伴 擊 中 眼 睛 可 能 致 視 ...</td>\n",
       "    </tr>\n",
       "    <tr>\n",
       "      <th>4</th>\n",
       "      <td>你 還 在 吃 龍 眼 嗎 看 完 後 震 驚 了 一 定 要 告 訴 家 人 啊 分 享</td>\n",
       "    </tr>\n",
       "  </tbody>\n",
       "</table>\n",
       "</div>"
      ],
      "text/plain": [
       "                                               title\n",
       "0  看 看 香 港 黃 之 鋒 的 惡 行 惡 狀 欺 負 老 人 家 算 什 麼 好 漢 暴 ...\n",
       "1      3 燒 烤 時 戴 隱 形 眼 鏡 遇 高 溫 會 使 隱 形 眼 鏡 熔 化 而 致 盲\n",
       "2                                    剛 出 爐 的 麵 包 傷 胃\n",
       "3  昨 晚 香 港 一 名 參 與 示 威 女 子 被 同 伴 擊 中 眼 睛 可 能 致 視 ...\n",
       "4      你 還 在 吃 龍 眼 嗎 看 完 後 震 驚 了 一 定 要 告 訴 家 人 啊 分 享"
      ]
     },
     "execution_count": 48,
     "metadata": {},
     "output_type": "execute_result"
    }
   ],
   "source": [
    "train = pd.DataFrame()\n",
    "train[\"title\"] = pd.concat([train_data[\"title1\"].apply(clean_mark).apply(cleanData),\\\n",
    "                            train_data[\"title2\"].apply(clean_mark).apply(cleanData)])\n",
    "# train[\"title1\"] = train_data[\"title1\"].apply(clean_mark)\n",
    "# train[\"title2\"] = train_data[\"title2\"].apply(clean_mark)\n",
    "# train[\"label\"] = train_data[\"label\"]\n",
    "print(len(train))\n",
    "train.head()"
   ]
  },
  {
   "cell_type": "code",
   "execution_count": 49,
   "metadata": {},
   "outputs": [
    {
     "name": "stdout",
     "output_type": "stream",
     "text": [
      "698965\n"
     ]
    },
    {
     "data": {
      "text/html": [
       "<div>\n",
       "<style scoped>\n",
       "    .dataframe tbody tr th:only-of-type {\n",
       "        vertical-align: middle;\n",
       "    }\n",
       "\n",
       "    .dataframe tbody tr th {\n",
       "        vertical-align: top;\n",
       "    }\n",
       "\n",
       "    .dataframe thead th {\n",
       "        text-align: right;\n",
       "    }\n",
       "</style>\n",
       "<table border=\"1\" class=\"dataframe\">\n",
       "  <thead>\n",
       "    <tr style=\"text-align: right;\">\n",
       "      <th></th>\n",
       "      <th>title</th>\n",
       "    </tr>\n",
       "  </thead>\n",
       "  <tbody>\n",
       "    <tr>\n",
       "      <th>0</th>\n",
       "      <td>2017 養 老 保 險 又 新 增 兩 項 農 村 老 人 人 人 可 申 領 你 領 到...</td>\n",
       "    </tr>\n",
       "    <tr>\n",
       "      <th>1</th>\n",
       "      <td>你 不 來 深 圳 早 晚 你 兒 子 也 要 來 不 出 10 年 深 圳 人 均 GDP...</td>\n",
       "    </tr>\n",
       "    <tr>\n",
       "      <th>2</th>\n",
       "      <td>你 不 來 深 圳 早 晚 你 兒 子 也 要 來 不 出 10 年 深 圳 人 均 GDP...</td>\n",
       "    </tr>\n",
       "    <tr>\n",
       "      <th>3</th>\n",
       "      <td>你 不 來 深 圳 早 晚 你 兒 子 也 要 來 不 出 10 年 深 圳 人 均 GDP...</td>\n",
       "    </tr>\n",
       "    <tr>\n",
       "      <th>4</th>\n",
       "      <td>用 大 蒜 鑒 別 地 溝 油 的 方 法 怎 麼 鑒 別 地 溝 油</td>\n",
       "    </tr>\n",
       "  </tbody>\n",
       "</table>\n",
       "</div>"
      ],
      "text/plain": [
       "                                               title\n",
       "0  2017 養 老 保 險 又 新 增 兩 項 農 村 老 人 人 人 可 申 領 你 領 到...\n",
       "1  你 不 來 深 圳 早 晚 你 兒 子 也 要 來 不 出 10 年 深 圳 人 均 GDP...\n",
       "2  你 不 來 深 圳 早 晚 你 兒 子 也 要 來 不 出 10 年 深 圳 人 均 GDP...\n",
       "3  你 不 來 深 圳 早 晚 你 兒 子 也 要 來 不 出 10 年 深 圳 人 均 GDP...\n",
       "4                用 大 蒜 鑒 別 地 溝 油 的 方 法 怎 麼 鑒 別 地 溝 油"
      ]
     },
     "execution_count": 49,
     "metadata": {},
     "output_type": "execute_result"
    }
   ],
   "source": [
    "c = pd.concat([copus,train])\n",
    "print(len(c))\n",
    "c.head()"
   ]
  },
  {
   "cell_type": "code",
   "execution_count": 50,
   "metadata": {},
   "outputs": [
    {
     "name": "stdout",
     "output_type": "stream",
     "text": [
      "(698965, 1)\n"
     ]
    }
   ],
   "source": [
    "print(c.shape)"
   ]
  },
  {
   "cell_type": "code",
   "execution_count": 86,
   "metadata": {},
   "outputs": [],
   "source": [
    "tokenizer = keras \\\n",
    "    .preprocessing \\\n",
    "    .text \\\n",
    "    .Tokenizer(12000)"
   ]
  },
  {
   "cell_type": "code",
   "execution_count": 66,
   "metadata": {},
   "outputs": [
    {
     "name": "stdout",
     "output_type": "stream",
     "text": [
      "(698963, 1)\n",
      "698963\n",
      "698963\n"
     ]
    }
   ],
   "source": [
    "c = c[c[\"title\"].str.isnumeric() == False]\n",
    "print(c.shape)\n",
    "c_a = c.values.tolist()\n",
    "print(len(c_a))\n",
    "c_a = [i[0] for i in c_a]\n",
    "print(len(c_a))"
   ]
  },
  {
   "cell_type": "code",
   "execution_count": 87,
   "metadata": {},
   "outputs": [
    {
     "name": "stdout",
     "output_type": "stream",
     "text": [
      "12000\n"
     ]
    }
   ],
   "source": [
    "tokenizer.fit_on_texts(c_a)\n",
    "print(tokenizer.num_words)"
   ]
  },
  {
   "cell_type": "code",
   "execution_count": 88,
   "metadata": {},
   "outputs": [
    {
     "name": "stdout",
     "output_type": "stream",
     "text": [
      "得\n"
     ]
    }
   ],
   "source": [
    "print(tokenizer.index_word.get(200))"
   ]
  },
  {
   "cell_type": "code",
   "execution_count": 89,
   "metadata": {},
   "outputs": [],
   "source": [
    "import pickle\n",
    "\n",
    "# 應該將所有資料集整合統一成一個 pickle\n",
    "with open(\"tokenized2.pickle\",\"wb\") as handle:\n",
    "    pickle.dump(tokenizer, handle, protocol=pickle.HIGHEST_PROTOCOL)"
   ]
  },
  {
   "cell_type": "code",
   "execution_count": null,
   "metadata": {},
   "outputs": [],
   "source": []
  }
 ],
 "metadata": {
  "kernelspec": {
   "display_name": "Python 3",
   "language": "python",
   "name": "python3"
  },
  "language_info": {
   "codemirror_mode": {
    "name": "ipython",
    "version": 3
   },
   "file_extension": ".py",
   "mimetype": "text/x-python",
   "name": "python",
   "nbconvert_exporter": "python",
   "pygments_lexer": "ipython3",
   "version": "3.6.6"
  }
 },
 "nbformat": 4,
 "nbformat_minor": 2
}
