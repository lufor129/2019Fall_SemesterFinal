{
 "cells": [
  {
   "cell_type": "markdown",
   "metadata": {},
   "source": [
    "# 每小時更新最新新聞"
   ]
  },
  {
   "cell_type": "code",
   "execution_count": 1,
   "metadata": {},
   "outputs": [],
   "source": [
    "import requests\n",
    "from lxml import etree\n",
    "import os\n",
    "import time\n",
    "import pymongo\n",
    "import threading\n",
    "from tqdm import tqdm\n",
    "\n",
    "myclient = pymongo.MongoClient(\"mongodb://localhost:27017/\")\n",
    "mydb = myclient[\"semester\"]\n",
    "mycol = mydb[\"ettoday\"]"
   ]
  },
  {
   "cell_type": "code",
   "execution_count": 2,
   "metadata": {},
   "outputs": [],
   "source": [
    "url = \"https://www.ettoday.net/news/news-list.htm\"\n",
    "def getDateNews():\n",
    "    links = []\n",
    "    tags = []\n",
    "    response = requests.get(url)\n",
    "    html = etree.HTML(response.content)\n",
    "    links = html.xpath(\"//div[@class='part_list_2']/h3/a/@href\")\n",
    "    links = [\"https://www.ettoday.net\"+link for link in links]\n",
    "    tags = html.xpath(\"//div[@class='part_list_2']/h3/em/text()\")\n",
    "    dates = html.xpath(\"//div[@class='part_list_2']/h3/span[@class='date']/text()\")\n",
    "    dates = [date.split(\" \")[0][5:] for date in dates]\n",
    "    return tags,links,dates"
   ]
  },
  {
   "cell_type": "code",
   "execution_count": 3,
   "metadata": {},
   "outputs": [],
   "source": [
    "def getnews(link,D,tag):\n",
    "    try: \n",
    "        response = requests.get(link)\n",
    "        tag = tag\n",
    "        html = etree.HTML(response.content,parser=etree.HTMLParser(encoding='utf-8'))\n",
    "        link = link\n",
    "        title = html.xpath(\"//header/h1/text()\")\n",
    "        title = title[0].strip()\n",
    "        contents = html.xpath(\"//div[@class='story']/p/text()\")\n",
    "        content = \"\\n\".join([content.strip()for content in contents])\n",
    "        img_link = html.xpath(\"//div[@class='story']//img/@src\")[0]\n",
    "        pic = requests.get(\"https:\"+img_link)\n",
    "        link_id = link.split(\"/\")[-1].split(\".\")[0]\n",
    "        time = html.xpath(\"//time/@datetime\")[0]\n",
    "        time = time.replace(\"+08:00\",\"\").replace(\"T\",\"-\").replace(\":\",\"-\")\n",
    "        k_time = re.split(\"-\",time)\n",
    "        k_time = [int(j) for j in k_time]\n",
    "        for i in range(len(k_time),9):\n",
    "            k_time.append(0)\n",
    "        time = time.mktime(tuple(k_time))\n",
    "        img_path = \"./pic/\"+D+\"/\"+time+\"_\"+link_id+\".png\"\n",
    "        open(img_path,\"wb\").write(pic.content)\n",
    "        insert_dict = {\"title\":title,\"content\":content,\"time\":time,\"tag\":tag,\"link\":link,\"img_path\":img_path}\n",
    "        mycol.update_one({\"link\":insert_dict[\"link\"]},{\"$set\":insert_dict},upsert=True)\n",
    "    except:\n",
    "        pass"
   ]
  },
  {
   "cell_type": "code",
   "execution_count": 4,
   "metadata": {},
   "outputs": [
    {
     "name": "stderr",
     "output_type": "stream",
     "text": [
      "11/11/11:00: 100%|███████████████████████████████████████████████████████████████████| 100/100 [00:04<00:00, 20.93it/s]\n"
     ]
    },
    {
     "name": "stdout",
     "output_type": "stream",
     "text": [
      "finish 20191111\n"
     ]
    }
   ],
   "source": [
    "tags,links,dates = getDateNews()\n",
    "threads = []\n",
    "m = time.strftime(\"%m\",time.localtime(time.time()))\n",
    "d = time.strftime(\"%d\",time.localtime(time.time()))\n",
    "H = time.strftime(\"%H\",time.localtime(time.time()))\n",
    "date = m+\"/\"+d+\"/\"+H+\":00\"\n",
    "for i in tqdm(range(len(links)),desc=date):\n",
    "    tag = tags[i]\n",
    "    link = links[i]\n",
    "    if(mycol.find_one({\"link\":link}) != None):\n",
    "        continue\n",
    "    mon,day = dates[i].split(\"/\")\n",
    "    mon = int(mon)\n",
    "    day = int(day)\n",
    "    m = \"0\"+str(mon) if mon <10 else mon\n",
    "    d = \"0\"+str(day) if day <10 else day\n",
    "    D = \"2019\"+str(m)+str(d)\n",
    "    directory = \"./pic/\"+D\n",
    "    if not os.path.exists(directory):\n",
    "        os.makedirs(directory)\n",
    "#     getnews(link,D,tag)\n",
    "    threads.append(threading.Thread(target=getnews,args=(link,D,tag)))\n",
    "    threads[-1].start()\n",
    "for thread in threads:\n",
    "    thread.join()\n",
    "print(\"finish \"+D)"
   ]
  },
  {
   "cell_type": "code",
   "execution_count": null,
   "metadata": {},
   "outputs": [],
   "source": []
  }
 ],
 "metadata": {
  "kernelspec": {
   "display_name": "Python 3",
   "language": "python",
   "name": "python3"
  },
  "language_info": {
   "codemirror_mode": {
    "name": "ipython",
    "version": 3
   },
   "file_extension": ".py",
   "mimetype": "text/x-python",
   "name": "python",
   "nbconvert_exporter": "python",
   "pygments_lexer": "ipython3",
   "version": "3.6.6"
  }
 },
 "nbformat": 4,
 "nbformat_minor": 2
}
